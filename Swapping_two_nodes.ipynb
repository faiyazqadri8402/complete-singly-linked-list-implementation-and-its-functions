{
 "cells": [
  {
   "cell_type": "code",
   "execution_count": 1,
   "metadata": {},
   "outputs": [],
   "source": [
    "class Node:\n",
    "    def __init__(self,data):\n",
    "        self.data = data\n",
    "        self.next = None\n",
    "        \n",
    "class LinkedList:\n",
    "    def __init__(self):\n",
    "        self.head = None\n",
    "        \n",
    "    def print_list(self):\n",
    "        cur_node = self.head\n",
    "        while cur_node:\n",
    "            print(cur_node.data)\n",
    "            cur_node = cur_node.next\n",
    "            \n",
    "        \n",
    "        \n",
    "    def append(self,data):\n",
    "        new_node = Node(data)\n",
    "        \n",
    "        if self.head is None:\n",
    "            self.head = new_node\n",
    "            return\n",
    "        \n",
    "        last_node = self.head\n",
    "        while last_node.next:\n",
    "            last_node = last_node.next\n",
    "        last_node.next = new_node \n",
    "        \n",
    "        \n",
    "    def prepend(self,data):\n",
    "        new_node = Node(data)\n",
    "        if self.head is None:\n",
    "            self.head = new_node\n",
    "            return\n",
    "        new_node.next = self.head\n",
    "        self.head = new_node\n",
    "        \n",
    "        \n",
    "    def insert_after_node(self,prev,data):\n",
    "        if not prev:\n",
    "            print(\"Previous node does not exist\")\n",
    "            return\n",
    "        new_node = Node(data)\n",
    "        new_node.next = prev.next\n",
    "        prev.next = new_node\n",
    "        \n",
    "    def swapnodes(self,key1,key2):\n",
    "        if key1==key2:\n",
    "            return\n",
    "        prev1 = None\n",
    "        cur1 = self.head\n",
    "        while cur1 and cur1.data!=key1:\n",
    "            prev1 = cur1\n",
    "            cur1 = cur1.next\n",
    "            \n",
    "        prev2 = None\n",
    "        cur2 = self.head\n",
    "        while cur2 and cur2.data!=key2:\n",
    "            prev2 = cur2\n",
    "            cur2 = cur2.next\n",
    "            \n",
    "        if not cur1 or not cur2:\n",
    "            return\n",
    "        \n",
    "        if prev1:\n",
    "            prev1.next = cur2\n",
    "        else:\n",
    "            self.head = cur2\n",
    "            \n",
    "        if prev2:\n",
    "            prev2.next = cur1\n",
    "        else:\n",
    "            self.head = cur1 \n",
    "            \n",
    "        cur1.next,cur2.next = cur2.next,cur1.next  \n",
    "        \n",
    "    def size(self):\n",
    "        count = 0\n",
    "        cur_node = self.head\n",
    "        while cur_node:\n",
    "            count+=1\n",
    "            cur_node = cur_node.next\n",
    "        return count \n",
    "    \n",
    "    def delnode(self,key):\n",
    "        cur_node = self.head\n",
    "        if cur_node and cur_node.data == key:\n",
    "            self.head = cur_node.next\n",
    "            return\n",
    "        prev = None\n",
    "        while cur_node and cur_node.data!=key:\n",
    "            prev = cur_node\n",
    "            cur_node = cur_node.next\n",
    "        if cur_node is None:\n",
    "            return\n",
    "        prev.next = cur_node.next\n",
    "        cur_node = None\n",
    "        \n",
    "        \n",
    "    def delnode_at_pos(self,pos):\n",
    "        cur_node = self.head\n",
    "        if pos == 0:\n",
    "            self.head = cur_node.next\n",
    "            cur_node = None\n",
    "            return\n",
    "        prev = None\n",
    "        count = 1\n",
    "        while cur_node and count!=pos:\n",
    "            prev = cur_node\n",
    "            cur_node = cur_node.next\n",
    "            count+=1\n",
    "        if cur_node is None:\n",
    "            return\n",
    "        prev.next = cur_node.next\n",
    "        cur_node = None\n",
    "        \n",
    "        \n",
    "    def reverse_iterative(self):\n",
    "\n",
    "        prev = None \n",
    "        cur = self.head\n",
    "        while cur:\n",
    "            nxt = cur.next\n",
    "            cur.next = prev\n",
    "            \n",
    "            #self.print_helper(prev, \"PREV\")\n",
    "            #self.print_helper(cur, \"CUR\")\n",
    "            #self.print_helper(nxt, \"NXT\")\n",
    "            #print(\"\\n\")\n",
    "\n",
    "            prev = cur \n",
    "            cur = nxt \n",
    "        self.head = prev    "
   ]
  },
  {
   "cell_type": "code",
   "execution_count": 2,
   "metadata": {},
   "outputs": [],
   "source": [
    "llist = LinkedList()\n",
    "llist.append(\"A\")\n",
    "llist.append(\"B\")\n",
    "llist.append(\"C\")\n",
    "llist.append(\"D\")\n",
    "llist.append(\"E\")\n",
    "llist.append(\"F\")\n",
    "llist.append(\"G\")"
   ]
  },
  {
   "cell_type": "code",
   "execution_count": 3,
   "metadata": {},
   "outputs": [
    {
     "name": "stdout",
     "output_type": "stream",
     "text": [
      "A\n",
      "B\n",
      "C\n",
      "D\n",
      "E\n",
      "F\n",
      "G\n"
     ]
    }
   ],
   "source": [
    "llist.print_list()"
   ]
  },
  {
   "cell_type": "code",
   "execution_count": 4,
   "metadata": {},
   "outputs": [],
   "source": [
    "llist.swapnodes(\"B\",\"C\")"
   ]
  },
  {
   "cell_type": "code",
   "execution_count": 5,
   "metadata": {},
   "outputs": [
    {
     "name": "stdout",
     "output_type": "stream",
     "text": [
      "A\n",
      "C\n",
      "B\n",
      "D\n",
      "E\n",
      "F\n",
      "G\n"
     ]
    }
   ],
   "source": [
    "llist.print_list()"
   ]
  },
  {
   "cell_type": "code",
   "execution_count": 6,
   "metadata": {},
   "outputs": [
    {
     "data": {
      "text/plain": [
       "7"
      ]
     },
     "execution_count": 6,
     "metadata": {},
     "output_type": "execute_result"
    }
   ],
   "source": [
    "llist.size()"
   ]
  },
  {
   "cell_type": "code",
   "execution_count": 7,
   "metadata": {},
   "outputs": [],
   "source": [
    "llist.delnode(\"F\")"
   ]
  },
  {
   "cell_type": "code",
   "execution_count": 8,
   "metadata": {},
   "outputs": [
    {
     "name": "stdout",
     "output_type": "stream",
     "text": [
      "A\n",
      "C\n",
      "B\n",
      "D\n",
      "E\n",
      "G\n"
     ]
    }
   ],
   "source": [
    "llist.print_list()"
   ]
  },
  {
   "cell_type": "code",
   "execution_count": 9,
   "metadata": {},
   "outputs": [],
   "source": [
    "llist.delnode_at_pos(3)"
   ]
  },
  {
   "cell_type": "code",
   "execution_count": 10,
   "metadata": {},
   "outputs": [
    {
     "name": "stdout",
     "output_type": "stream",
     "text": [
      "A\n",
      "C\n",
      "D\n",
      "E\n",
      "G\n"
     ]
    }
   ],
   "source": [
    "llist.print_list()"
   ]
  },
  {
   "cell_type": "code",
   "execution_count": 12,
   "metadata": {},
   "outputs": [
    {
     "name": "stdout",
     "output_type": "stream",
     "text": [
      "None\n"
     ]
    }
   ],
   "source": [
    "print(llist.reverse_iterative())"
   ]
  },
  {
   "cell_type": "code",
   "execution_count": null,
   "metadata": {},
   "outputs": [],
   "source": []
  }
 ],
 "metadata": {
  "kernelspec": {
   "display_name": "Python 3",
   "language": "python",
   "name": "python3"
  },
  "language_info": {
   "codemirror_mode": {
    "name": "ipython",
    "version": 3
   },
   "file_extension": ".py",
   "mimetype": "text/x-python",
   "name": "python",
   "nbconvert_exporter": "python",
   "pygments_lexer": "ipython3",
   "version": "3.6.8"
  }
 },
 "nbformat": 4,
 "nbformat_minor": 4
}
